{
 "cells": [
  {
   "cell_type": "code",
   "execution_count": null,
   "metadata": {
    "collapsed": true
   },
   "outputs": [],
   "source": [
    "import numpy as np\n",
    "import matplotlib.pyplot as plt\n",
    "from scipy.optimize import curve_fit"
   ]
  },
  {
   "cell_type": "code",
   "execution_count": null,
   "metadata": {
    "collapsed": true
   },
   "outputs": [],
   "source": [
    "def poly2(x, a, b, c, loud=False):\n",
    "    \"\"\"A standard polynomial function of degree 2\n",
    "\n",
    "    Args:\n",
    "        x (float): The independent variable to be operated upon\n",
    "        a (float): The coefficient of x^2\n",
    "        b (float): The coefficient of x\n",
    "        c (float): The coefficient of x^0, or y-intercept\n",
    "        loud (bool, optional): whether to print lots of info!\n",
    "\n",
    "    Returns:\n",
    "        float: The result of the operation\n",
    "    \"\"\"\n",
    "    # do the math\n",
    "    y = a*x**2 + b*x + c  # exponents are ** in python, not ^\n",
    "    if loud:\n",
    "        # here we apply the optional keyword\n",
    "        # this isn't particuarly useful in such a simple case\n",
    "        # but it can be very powerful in other applications\n",
    "        print(x, y)\n",
    "    \n",
    "    # the output of our function\n",
    "    return y"
   ]
  },
  {
   "cell_type": "code",
   "execution_count": null,
   "metadata": {},
   "outputs": [],
   "source": [
    "# using the function\n",
    "y = poly2(2, 2, 1, 0)\n",
    "print(\"is there a difference between y: {} and printing the funcion directly? {} \\n\".format(y, poly2(2, 2, 1, 0)))\n",
    "\n",
    "a = 2\n",
    "b = 1\n",
    "c = 0\n",
    "print(\"defining abc: \", poly2(2, a, b, c), '\\n')\n",
    "\n",
    "i = 2\n",
    "j = 1\n",
    "k = 0\n",
    "a = poly2(2, i, j, k)\n",
    "print(\"defining ijk and overwriting a:\", a, '\\n')\n",
    "\n",
    "x = np.arange(0,10,1)\n",
    "print(\"another cool trick via numpy: \", poly2(x, i, j, k, loud=True))"
   ]
  },
  {
   "cell_type": "code",
   "execution_count": null,
   "metadata": {},
   "outputs": [],
   "source": [
    "# lets make cooler data\n",
    "\n",
    "x = np.arange(0,100,0.1)\n",
    "y = poly2(x, 2, 5, 10)\n",
    "\n",
    "plt.scatter(x,y, s=1)\n",
    "plt.show()"
   ]
  },
  {
   "cell_type": "code",
   "execution_count": null,
   "metadata": {},
   "outputs": [],
   "source": [
    "# that's waaayy too fake, what does real data look like?\n",
    "\n",
    "print(\"x/y shape: \", len(x), len(y))\n",
    "\n",
    "# np.random.randn: sampled from a standard normal distribution\n",
    "# https://docs.scipy.org/doc/numpy-1.14.0/reference/routines.random.html\n",
    "noise = np.random.randn(len(x))\n",
    "\n",
    "noisy_y = y + noise\n",
    "\n",
    "print(\"noise shape\", len(noise), len(noisy_y))\n",
    "\n",
    "plt.scatter(x,noisy_y, s=1)\n",
    "plt.show()"
   ]
  },
  {
   "cell_type": "code",
   "execution_count": null,
   "metadata": {},
   "outputs": [],
   "source": [
    "noisy_y = y + noise*500\n",
    "\n",
    "plt.scatter(x,noisy_y, s=1)\n",
    "plt.show()"
   ]
  },
  {
   "cell_type": "code",
   "execution_count": null,
   "metadata": {},
   "outputs": [],
   "source": [
    "# that looks almost real, awesome\n",
    "# supposing we didn't know it was polynomial, we could guess its polynomial\n",
    "# can we recover the known input parameters however? \n",
    "\n",
    "# curve_fit expects a function and x-data/y-data to fit to\n",
    "# then it really just does it. awesome right?\n",
    "# https://docs.scipy.org/doc/scipy/reference/generated/scipy.optimize.curve_fit.html\n",
    "# see the documentation to learn it expects ydata = func(xdata, *params) + eps\n",
    "# and the form is curve_fit(func, xdata, ydata)\n",
    "popt, pcov = curve_fit(poly2, x, noisy_y)\n",
    "\n",
    "print(\"popt: \", popt)\n",
    "print(\"\\n pcov: \", pcov)\n"
   ]
  },
  {
   "cell_type": "code",
   "execution_count": null,
   "metadata": {},
   "outputs": [],
   "source": [
    "# uh oh that was a mess. why? \n",
    "# let me just tell you: it was the keyword arguement\"loud\"\n",
    "# is there an easy way around that?\n",
    "\n",
    "# of course there is\n",
    "def polySimple(x, a, b, c):\n",
    "    return poly2(x, a, b, c, loud=False)\n",
    "\n",
    "# wow is it that easy?\n",
    "# yeah. it is. Now we have a function that takes in x and the args, and no other confusing args\n",
    "# but note: this is one of many ways to do this\n",
    "# it is easy, but isn't necessarily the easiest or the best or even the fastest\n",
    "\n",
    "popt, pcov = curve_fit(polySimple, x, noisy_y)\n",
    "\n",
    "# remember: we initialized y with 2, 5, and 10\n",
    "# how'd the fitter do?\n",
    "\n",
    "print(\"popt: \", popt)\n",
    "print(\"\\n pcov: \", pcov)"
   ]
  },
  {
   "cell_type": "code",
   "execution_count": null,
   "metadata": {
    "collapsed": true
   },
   "outputs": [],
   "source": [
    "# quick exercise: use the fit parameters and original data\n",
    "# to plot the fit over the data. Both must be clearly visible\n",
    "# label axes, add title, add a legend\n"
   ]
  },
  {
   "cell_type": "code",
   "execution_count": null,
   "metadata": {},
   "outputs": [],
   "source": [
    "# a quick numpy course, or possibly review for some\n",
    "\n",
    "x = np.arange(0, 10, 0.1)\n",
    "y = poly2(x, 2, 3, 4)\n",
    "y_sin = np.sin(x*np.pi)*10\n",
    "\n",
    "plt.plot(x, y, 'b--')\n",
    "plt.plot(x, y_sin, 'g--')\n",
    "plt.plot(x, y+y_sin, 'r-')\n",
    "plt.show()"
   ]
  },
  {
   "cell_type": "code",
   "execution_count": null,
   "metadata": {
    "collapsed": true
   },
   "outputs": [],
   "source": [
    "# final assignment\n",
    "# 1) write a function that gives the sum of a 3rd deg polynomial and a cosine \n",
    "# ### hint on # 1: if your function doesn't allow adjusting of the period and amplitude of\n",
    "# ### your cosine function, curve_fit may not optimize well later\n",
    "# ### allow enough degrees of freedom to match your original data\n",
    "# 2) use this function to create noisy data that still clearly resembles the function\n",
    "# 3) plot both to prove it\n",
    "# 4) fit a 3rd degree polynomial to the data, plot fit and data\n",
    "# 5) fit the composite function to the data, plot fit and data\n",
    "# 6) show mathematically that the composite fit is better (hint: covariance)\n",
    "# 7) how many functions did you write in this assignment? 3? Can you do it in 2? Is this better?"
   ]
  }
 ],
 "metadata": {
  "kernelspec": {
   "display_name": "Python 3",
   "language": "python",
   "name": "python3"
  },
  "language_info": {
   "codemirror_mode": {
    "name": "ipython",
    "version": 3
   },
   "file_extension": ".py",
   "mimetype": "text/x-python",
   "name": "python",
   "nbconvert_exporter": "python",
   "pygments_lexer": "ipython3",
   "version": "3.6.0"
  }
 },
 "nbformat": 4,
 "nbformat_minor": 2
}
